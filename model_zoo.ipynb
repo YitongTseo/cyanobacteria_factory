{
 "cells": [
  {
   "cell_type": "markdown",
   "id": "ded05d99",
   "metadata": {},
   "source": [
    "# Shall we throw a 1D-CNN at it?"
   ]
  },
  {
   "cell_type": "code",
   "execution_count": null,
   "id": "429d4eb8",
   "metadata": {},
   "outputs": [],
   "source": []
  }
 ],
 "metadata": {
  "language_info": {
   "name": "python"
  }
 },
 "nbformat": 4,
 "nbformat_minor": 5
}
